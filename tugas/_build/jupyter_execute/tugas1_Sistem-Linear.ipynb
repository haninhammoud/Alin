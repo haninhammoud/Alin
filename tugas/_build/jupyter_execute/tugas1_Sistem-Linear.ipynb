{
 "cells": [
  {
   "cell_type": "markdown",
   "metadata": {
    "id": "i2Uv-i9nX0cO"
   },
   "source": [
    "# **SISTEM LINEAR DAN METODE ELIMINASI GAUSSIAN**\n",
    "\n",
    "**ELIMINASI GAUSSIAN**\n",
    "\n",
    "Eliminasi gaussian ditemukan oleh Carl Friedrich Guss,metode ini dapat dimanfaatkan untuk memecahkan sistem persamaan linear dengan merepresentasikan(mengubah) menjadi bentuk matriks,matriks tersebut lalu diubah dalam bentuk Eselon Baris melalui operasi Baris Elemter. lalu sistem diselesaikan dengan subtitusi balik.\n",
    "\n",
    "**Bentuk Eselon Baris**\n",
    "\n",
    "suatu matriks memiliki bentuk Eselon Baris jika memenuhi 3 kriteria sebagai berikut:\n",
    "\n",
    "1. Jika didalam baris terdapat elemen-elemen yang tidak semuanya nol, maka bilangan tak nol pertama di dalam baris tersebut adalah 1.  \n",
    "\n",
    "\n",
    "2. kalau ada baris-baris yang semua elemennya  bernilai 0 semua, maka baris-baris tersebut harus dikelompokkan dan diletakkan dibagian bawah matriks.\n",
    "\n",
    "3. Jika terdapat dua baris berurutan yang memenuhi kriteria pertama, maka angka 1 (pertama/utama) dari baris yang lebih rendah berada lebih kekanan dari angka 1(pertama/utama) baris yang diatasnya.\n",
    "\n",
    "**ADA TIGA OPERASI YANG DAPAT DILAKUKAN**\n",
    "1. Tukarkan posisi kedua persamaan.\n",
    "\n",
    "2. Kalikan persamaan dengan bilangan apa pun yang bukan nol.\n",
    "\n",
    "3. Gantikan suatu persamaan dengan jumlah persamaan itu sendiri dan kelipatan persamaan lainnya.\n"
   ]
  },
  {
   "cell_type": "markdown",
   "metadata": {
    "id": "nb2xShor_qXt"
   },
   "source": [
    "## Penyelesaian sistem linier\n",
    "Penyelesaian sistem persamaan linier dengan menggunakan eliminasi gauss.\n",
    "\n",
    "Selesaikan persamaan berikut :\n",
    "\n",
    "$$\n",
    "8x_1+9x_2+x_3=19\\\\\n",
    "x_1+2x_2+3x_3=9\\\\\n",
    "2x_1+x_2+x_3=5\\\n",
    "$$\n",
    "\n",
    "yang pertama deklarasikan RowSwap, RowAdd dan RowScale untuk perhitungan selanjutnya"
   ]
  },
  {
   "cell_type": "markdown",
   "metadata": {
    "id": "vN1Y9DwfAQ3f"
   },
   "source": [
    "## Tahapan penyelesaian dengan menggunakan eliminasi GAUSS"
   ]
  },
  {
   "cell_type": "code",
   "execution_count": 1,
   "metadata": {
    "colab": {
     "base_uri": "https://localhost:8080/"
    },
    "executionInfo": {
     "elapsed": 373,
     "status": "ok",
     "timestamp": 1709487368725,
     "user": {
      "displayName": "23-005 HANIN",
      "userId": "17469751421308221159"
     },
     "user_tz": -420
    },
    "id": "42xRcEgq_zEm",
    "outputId": "306c2764-68e0-40c8-f5ce-0d775500a20f"
   },
   "outputs": [
    {
     "name": "stdout",
     "output_type": "stream",
     "text": [
      "[[ 8  9  1 19]\n",
      " [ 1  2  3  9]\n",
      " [ 2  1  1  5]]\n"
     ]
    }
   ],
   "source": [
    "import numpy as np\n",
    "A=np.array([[8,9,1,19],[1,2,3,9],[2,1,1,5]])\n",
    "print(A)"
   ]
  },
  {
   "cell_type": "markdown",
   "metadata": {
    "id": "iEDTR7sAA_Kp"
   },
   "source": [
    "## Mendefinisikan fungsi operasi baris eliminasi GAUSS\n",
    "\n",
    "* RowSwap(matriks, baris1, baris2):\n",
    "\n",
    "Fungsi ini menukar dua baris dalam matriks.\n",
    "\n",
    "Parameter:\n",
    "\n",
    "matriks: Matriks yang ingin dimanipulasi.\n",
    "baris1: Indeks baris pertama yang ingin ditukar.\n",
    "baris2: Indeks baris kedua yang ingin ditukar.\n",
    "\n",
    "Contoh:\n",
    "\n",
    "```\n",
    "matriks = [[1, 2, 3], [4, 5, 6], [7, 8, 9]]\n",
    "\n",
    "RowSwap(matriks, 0, 2)\n",
    "\n",
    "print(matriks)\n",
    "# Output:\n",
    "# [[7, 8, 9],\n",
    "#  [4, 5, 6],\n",
    "#  [1, 2, 3]]\n",
    "```\n",
    "\n",
    "* RowScale(matriks, baris, skala):\n",
    "\n",
    "Fungsi ini mengalikan semua elemen dalam baris matriks dengan nilai skalar.\n",
    "\n",
    "Parameter:\n",
    "\n",
    "matriks: Matriks yang ingin dimanipulasi.\n",
    "baris: Indeks baris yang ingin diubah.\n",
    "skala: Nilai skalar yang ingin digunakan untuk mengalikan elemen baris.\n",
    "\n",
    "Contoh:\n",
    "\n",
    "```\n",
    "matriks = [[1, 2, 3], [4, 5, 6], [7, 8, 9]]\n",
    "\n",
    "RowScale(matriks, 1, 2)\n",
    "\n",
    "print(matriks)\n",
    "# Output:\n",
    "# [[1, 2, 3],\n",
    "#  [8, 10, 12],\n",
    "#  [7, 8, 9]]\n",
    "```\n",
    "\n",
    "\n",
    "* RowAdd(matriks, baris1, baris2, skala):\n",
    "\n",
    "Fungsi ini menambahkan skala dari baris kedua ke baris pertama matriks.\n",
    "\n",
    "Parameter:\n",
    "\n",
    "matriks: Matriks yang ingin dimanipulasi.\n",
    "baris1: Indeks baris pertama yang ingin diubah.\n",
    "baris2: Indeks baris kedua yang ingin ditambahkan ke baris pertama.\n",
    "skala: Nilai skalar yang ingin digunakan untuk mengkalikan baris kedua sebelum menambahkannya ke baris pertama.\n",
    "\n",
    "Contoh:\n",
    "\n",
    "```\n",
    "matriks = [[1, 2, 3], [4, 5, 6], [7, 8, 9]]\n",
    "\n",
    "RowAdd(matriks, 0, 1, 2)\n",
    "\n",
    "print(matriks)\n",
    "# Output:\n",
    "# [[9, 12, 15],\n",
    "#  [4, 5, 6],\n",
    "#  [7, 8, 9]]\n",
    "```\n",
    "\n",
    "Fungsi-fungsi ini umumnya digunakan dalam operasi aljabar matriks untuk menyelesaikan sistem persamaan linear, menghitung invers matriks, dan operasi manipulasi matriks lainnya.\n",
    "\n"
   ]
  },
  {
   "cell_type": "code",
   "execution_count": 2,
   "metadata": {
    "id": "oq-BGr4cA1O3"
   },
   "outputs": [],
   "source": [
    "import numpy as np\n",
    "\n",
    "def RowSwap(A,k,l):\n",
    "# =============================================================================\n",
    "#     A is a NumPy array.  RowSwap will return duplicate array with rows\n",
    "#     k and l swapped.\n",
    "# =============================================================================\n",
    "    m = A.shape[0]  # m is number of rows in A\n",
    "    n = A.shape[1]  # n is number of columns in A\n",
    "\n",
    "    B = np.copy(A).astype('float64')\n",
    "\n",
    "    for j in range(n):\n",
    "        temp = B[k][j]\n",
    "        B[k][j] = B[l][j]\n",
    "        B[l][j] = temp\n",
    "\n",
    "    return B\n",
    "\n",
    "def RowScale(A,k,scale):\n",
    "# =============================================================================\n",
    "#     A is a NumPy array.  RowScale will return duplicate array with the\n",
    "#     entries of row k multiplied by scale.\n",
    "# =============================================================================\n",
    "    m = A.shape[0]  # m is number of rows in A\n",
    "    n = A.shape[1]  # n is number of columns in A\n",
    "\n",
    "    B = np.copy(A).astype('float64')\n",
    "\n",
    "    for j in range(n):\n",
    "        B[k][j] *= scale\n",
    "\n",
    "    return B\n",
    "\n",
    "def RowAdd(A,k,l,scale):\n",
    "# =============================================================================\n",
    "#     A is a numpy array.  RowAdd will return duplicate array with row\n",
    "#     l modifed.  The new values will be the old values of row l added to\n",
    "#     the values of row k, multiplied by scale.\n",
    "# =============================================================================\n",
    "    m = A.shape[0]  # m is number of rows in A\n",
    "    n = A.shape[1]  # n is number of columns in A\n",
    "\n",
    "    B = np.copy(A).astype('float64')\n",
    "\n",
    "    for j in range(n):\n",
    "        B[l][j] += B[k][j]*scale\n",
    "\n",
    "    return B"
   ]
  },
  {
   "cell_type": "markdown",
   "metadata": {
    "id": "5EIXSqzjYWC7"
   },
   "source": [
    "Buat array NumPy dengan nilai-nilai ini. Kita akan memberi nama pada array A, sehingga kita bisa memanggilnya lagi nanti."
   ]
  },
  {
   "cell_type": "code",
   "execution_count": 3,
   "metadata": {
    "colab": {
     "base_uri": "https://localhost:8080/"
    },
    "executionInfo": {
     "elapsed": 466,
     "status": "ok",
     "timestamp": 1709515168320,
     "user": {
      "displayName": "23-005 HANIN",
      "userId": "17469751421308221159"
     },
     "user_tz": -420
    },
    "id": "p05MZDiAYX3v",
    "outputId": "e83f34fe-6fb6-49d6-a2cf-2f47dceb3860"
   },
   "outputs": [
    {
     "name": "stdout",
     "output_type": "stream",
     "text": [
      "[[ 8  9  1 19]\n",
      " [ 1  2  3  9]\n",
      " [ 2  1  1  5]]\n"
     ]
    }
   ],
   "source": [
    "import numpy as np\n",
    "A=np.array([[8,9,1,19],[1,2,3,9],[2,1,1,5]])\n",
    "print(A)"
   ]
  },
  {
   "cell_type": "code",
   "execution_count": 4,
   "metadata": {
    "colab": {
     "base_uri": "https://localhost:8080/"
    },
    "executionInfo": {
     "elapsed": 357,
     "status": "ok",
     "timestamp": 1709515218915,
     "user": {
      "displayName": "23-005 HANIN",
      "userId": "17469751421308221159"
     },
     "user_tz": -420
    },
    "id": "CLKsODhFZCCw",
    "outputId": "668ae2eb-839f-4ff4-919d-21f9e1646102"
   },
   "outputs": [
    {
     "name": "stdout",
     "output_type": "stream",
     "text": [
      "[[ 1.  2.  3.  9.]\n",
      " [ 8.  9.  1. 19.]\n",
      " [ 2.  1.  1.  5.]]\n"
     ]
    }
   ],
   "source": [
    "#pindahkan baris 0 ke baris 1\n",
    "A1 = RowSwap(A, 0, 1)\n",
    "print(A1)"
   ]
  },
  {
   "cell_type": "code",
   "execution_count": 5,
   "metadata": {
    "colab": {
     "base_uri": "https://localhost:8080/"
    },
    "executionInfo": {
     "elapsed": 357,
     "status": "ok",
     "timestamp": 1709487890916,
     "user": {
      "displayName": "23-005 HANIN",
      "userId": "17469751421308221159"
     },
     "user_tz": -420
    },
    "id": "mil79jovaw5z",
    "outputId": "35fbc54d-912b-4817-c3cd-decb6f24041b"
   },
   "outputs": [
    {
     "name": "stdout",
     "output_type": "stream",
     "text": [
      "[[  1.   2.   3.   9.]\n",
      " [  0.  -7. -23. -53.]\n",
      " [  2.   1.   1.   5.]]\n"
     ]
    }
   ],
   "source": [
    "#tambahkan -8 kali baris 0 ke baris 1\n",
    "A2 = RowAdd(A1, 0, 1, -8)\n",
    "print(A2)"
   ]
  },
  {
   "cell_type": "code",
   "execution_count": 6,
   "metadata": {
    "colab": {
     "base_uri": "https://localhost:8080/"
    },
    "executionInfo": {
     "elapsed": 6,
     "status": "ok",
     "timestamp": 1709487907193,
     "user": {
      "displayName": "23-005 HANIN",
      "userId": "17469751421308221159"
     },
     "user_tz": -420
    },
    "id": "pjHwtgLEaygp",
    "outputId": "cb945d30-c490-4081-bc5e-adec21536889"
   },
   "outputs": [
    {
     "name": "stdout",
     "output_type": "stream",
     "text": [
      "[[  1.   2.   3.   9.]\n",
      " [  0.  -7. -23. -53.]\n",
      " [  0.  -3.  -5. -13.]]\n"
     ]
    }
   ],
   "source": [
    "#tambahkan -2 kali baris 0 ke baris 2\n",
    "A3 = RowAdd(A2, 0, 2, -2)\n",
    "print(A3)"
   ]
  },
  {
   "cell_type": "code",
   "execution_count": 7,
   "metadata": {
    "colab": {
     "base_uri": "https://localhost:8080/"
    },
    "executionInfo": {
     "elapsed": 347,
     "status": "ok",
     "timestamp": 1709487920759,
     "user": {
      "displayName": "23-005 HANIN",
      "userId": "17469751421308221159"
     },
     "user_tz": -420
    },
    "id": "8tv4fI5Ra26P",
    "outputId": "320c7f9f-70da-4a6a-da5b-5c2b3dd9060e"
   },
   "outputs": [
    {
     "name": "stdout",
     "output_type": "stream",
     "text": [
      "[[  1.           2.           3.           9.        ]\n",
      " [ -0.           1.           3.28571429   7.57142857]\n",
      " [  0.          -3.          -5.         -13.        ]]\n"
     ]
    }
   ],
   "source": [
    "#kalikan baris 1 dengan -1/7\n",
    "A4 = RowScale(A3, 1, -1/7)\n",
    "print(A4)"
   ]
  },
  {
   "cell_type": "code",
   "execution_count": 8,
   "metadata": {
    "colab": {
     "base_uri": "https://localhost:8080/"
    },
    "executionInfo": {
     "elapsed": 331,
     "status": "ok",
     "timestamp": 1709487933103,
     "user": {
      "displayName": "23-005 HANIN",
      "userId": "17469751421308221159"
     },
     "user_tz": -420
    },
    "id": "QlV22V_ua5wa",
    "outputId": "8a4291f5-84ce-49ba-df1f-c15b8a688287"
   },
   "outputs": [
    {
     "name": "stdout",
     "output_type": "stream",
     "text": [
      "[[ 1.          2.          3.          9.        ]\n",
      " [-0.          1.          3.28571429  7.57142857]\n",
      " [ 0.          0.          4.85714286  9.71428571]]\n"
     ]
    }
   ],
   "source": [
    "#tambahkan 3 kali baris 1 ke baris 2\n",
    "A5 = RowAdd(A4, 1, 2, 3)\n",
    "print(A5)"
   ]
  },
  {
   "cell_type": "code",
   "execution_count": 9,
   "metadata": {
    "colab": {
     "base_uri": "https://localhost:8080/"
    },
    "executionInfo": {
     "elapsed": 347,
     "status": "ok",
     "timestamp": 1709487949886,
     "user": {
      "displayName": "23-005 HANIN",
      "userId": "17469751421308221159"
     },
     "user_tz": -420
    },
    "id": "NJMcu1Uza86j",
    "outputId": "983c21aa-39d5-4977-a520-bcf6a378ac2b"
   },
   "outputs": [
    {
     "name": "stdout",
     "output_type": "stream",
     "text": [
      "[[ 1.          2.          3.          9.        ]\n",
      " [-0.          1.          3.28571429  7.57142857]\n",
      " [ 0.          0.          1.21428571  2.42857143]]\n"
     ]
    }
   ],
   "source": [
    "#kalikan baris 2 dengan 1/4\n",
    "A6 = RowScale(A5, 2, 1/4)\n",
    "print(A6)"
   ]
  },
  {
   "cell_type": "markdown",
   "metadata": {
    "id": "BxehO1XnbDbC"
   },
   "source": [
    "Dari matriks terakhir tersebut sudah memenuhi ketiga kriteria bentuk eselon baris. Selanjutnya tinggal mengubahnya kembali menjadi sistem persamaan linear\n",
    "\n",
    "\\\n",
    "$$\n",
    "x_1+2x_2+3x_3=9\\\\\n",
    "x_2+3.28571429x_3=7.57142857\\\\\n",
    "x_3=2\\\\\n",
    "$$\n"
   ]
  },
  {
   "cell_type": "code",
   "execution_count": 10,
   "metadata": {
    "colab": {
     "base_uri": "https://localhost:8080/"
    },
    "executionInfo": {
     "elapsed": 10,
     "status": "ok",
     "timestamp": 1709487996029,
     "user": {
      "displayName": "23-005 HANIN",
      "userId": "17469751421308221159"
     },
     "user_tz": -420
    },
    "id": "0GiPeHmybIKp",
    "outputId": "942c4228-0a7a-4956-a337-9d271a1775a6"
   },
   "outputs": [
    {
     "name": "stdout",
     "output_type": "stream",
     "text": [
      "x3: 2\n",
      "x2: 1\n",
      "x1: 1\n"
     ]
    }
   ],
   "source": [
    "#selesaikan persamaanya\n",
    "x3 = 2\n",
    "print('x3:', x3)\n",
    "x2 = 7.57142857-(3.28571429*x3)\n",
    "print(\"x2:\", round(x2))\n",
    "x1 = 9 - 2*x2 - 3*x3\n",
    "print('x1:', round(x1))"
   ]
  },
  {
   "cell_type": "code",
   "execution_count": 11,
   "metadata": {
    "colab": {
     "base_uri": "https://localhost:8080/",
     "height": 415
    },
    "executionInfo": {
     "elapsed": 401,
     "status": "ok",
     "timestamp": 1709488114286,
     "user": {
      "displayName": "23-005 HANIN",
      "userId": "17469751421308221159"
     },
     "user_tz": -420
    },
    "id": "5s8LcmdzbMmo",
    "outputId": "98a3fb2d-51e0-42f8-ec01-0b9d5c0a1ee8"
   },
   "outputs": [
    {
     "data": {
      "image/png": "[encoded data removed]",
      "text/plain": [
       "<Figure size 640x480 with 1 Axes>"
      ]
     },
     "metadata": {},
     "output_type": "display_data"
    }
   ],
   "source": [
    "import numpy as np\n",
    "import matplotlib.pyplot as plt\n",
    "from mpl_toolkits.mplot3d import Axes3D\n",
    "\n",
    "# Koefisien untuk masing-masing persamaan bidang\n",
    "a1, b1, c1, r1 = 1, 2, 3, 9\n",
    "a2, b2, c2, r2 = 0, 1, 13, 27\n",
    "a3, b3, c3, r3 = 0, 0, 1, 2\n",
    "\n",
    "# Buat data x, y\n",
    "x = np.linspace(-10, 10, 100)\n",
    "y = np.linspace(-10, 10, 100)\n",
    "\n",
    "# Buat grid x, y\n",
    "X, Y = np.meshgrid(x, y)\n",
    "\n",
    "# Hitung nilai z sesuai dengan persamaan bidang\n",
    "Z1 = (r1 - a1*X - b1*Y) / c1\n",
    "Z2 = (r2 - a2*X - b2*Y) / c2\n",
    "Z3 = (r3 - a3*X - b3*Y) / c3\n",
    "\n",
    "# Plot persamaan bidang dalam tiga dimensi\n",
    "fig = plt.figure()\n",
    "ax = fig.add_subplot(111, projection='3d')\n",
    "\n",
    "# Plot bidang\n",
    "ax.plot_surface(X, Y, Z1, alpha=0.5, rstride=100, cstride=100, color='r')\n",
    "ax.plot_surface(X, Y, Z2, alpha=0.5, rstride=100, cstride=100, color='g')\n",
    "ax.plot_surface(X, Y, Z3, alpha=0.5, rstride=100, cstride=100, color='b')\n",
    "\n",
    "# Titik perpotongan\n",
    "A = np.array([[a1, b1, c1], [a2, b2, c2], [a3, b3, c3]])\n",
    "B = np.array([r1, r2, r3])\n",
    "intersect = np.linalg.solve(A, B)\n",
    "ax.scatter(intersect[0], intersect[1], intersect[2], color='black', s=100, label='Titik Perpotongan')\n",
    "\n",
    "# Label sumbu\n",
    "ax.set_xlabel('X')\n",
    "ax.set_ylabel('Y')\n",
    "ax.set_zlabel('Z')\n",
    "\n",
    "# Tampilkan legenda\n",
    "ax.legend()\n",
    "\n",
    "# Tampilkan plot\n",
    "plt.show()"
   ]
  }
 ],
 "metadata": {
  "colab": {
   "authorship_tag": "ABX9TyO1+4F7htFoyjh43nCLQhG8",
   "mount_file_id": "1kf4lntGIqQaMIOmdPMXU2QewxM1_-aq9",
   "provenance": []
  },
  "kernelspec": {
   "display_name": "Python 3",
   "name": "python3"
  },
  "language_info": {
   "codemirror_mode": {
    "name": "ipython",
    "version": 3
   },
   "file_extension": ".py",
   "mimetype": "text/x-python",
   "name": "python",
   "nbconvert_exporter": "python",
   "pygments_lexer": "ipython3",
   "version": "3.10.13"
  }
 },
 "nbformat": 4,
 "nbformat_minor": 0
}