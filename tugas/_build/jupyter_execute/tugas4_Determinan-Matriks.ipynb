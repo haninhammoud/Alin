{
 "cells": [
  {
   "cell_type": "markdown",
   "metadata": {
    "id": "wnFPDunh_n38"
   },
   "source": [
    "# **Determinan Matriks**\n"
   ]
  },
  {
   "cell_type": "markdown",
   "metadata": {
    "id": "DBNS7NIB_uUL"
   },
   "source": [
    "Determinan matriks adalah nilai numerik yang diperoleh dari suatu matriks persegi. Matriks persegi adalah matriks yang memiliki jumlah baris sama dengan jumlah kolom. Determinan matriks adalah sifat penting dari matriks dan memiliki berbagai aplikasi dalam matematika dan ilmu terkait lainnya.\n",
    "\n",
    "Matriks Umum\n",
    "𝑛\n",
    "×\n",
    "𝑛\n",
    "n×n:\n",
    "Untuk matriks\n",
    "𝑛\n",
    "×\n",
    "𝑛\n",
    "n×n, determinan dapat dihitung dengan metode ekspansi kofaktor atau menggunakan metode lainnya seperti metode reduksi baris."
   ]
  },
  {
   "cell_type": "markdown",
   "metadata": {
    "id": "Ga6rXvKeBMMb"
   },
   "source": [
    "Sifat-Sifat Determinan Matriks:\n",
    "\n",
    "1. Jika determinan suatu matriks adalah nol (\n",
    "∣\n",
    "𝐴\n",
    "∣\n",
    "=\n",
    "0\n",
    "∣A∣=0), maka matriks tersebut disebut sebagai matriks singular.\n",
    "\n",
    "2. Jika determinan suatu matriks tidak nol, maka matriks tersebut disebut sebagai matriks nonsingular atau invertible.\n",
    "\n",
    "3. Determinan dari matriks identitas\n",
    "𝐼\n",
    "I selalu sama dengan 1.\n",
    "\n",
    "4. Determinan matriks transpos\n",
    "𝐴\n",
    "𝑇\n",
    "A\n",
    "T\n",
    "  sama dengan determinan matriks asli\n",
    "𝐴\n",
    "A."
   ]
  },
  {
   "cell_type": "markdown",
   "metadata": {
    "id": "k0cwa3qrBeD9"
   },
   "source": [
    "Aplikasi Determinan Matriks:\n",
    "\n",
    "Determinan matriks digunakan dalam berbagai bidang matematika dan ilmu terapan, termasuk:\n",
    "\n",
    "Menyelesaikan sistem persamaan linear.\n",
    "\n",
    "Menghitung luas area dalam geometri.\n",
    "\n",
    "Menentukan apakah matriks memiliki invers atau tidak.\n",
    "\n",
    "Menganalisis stabilitas dalam sistem dinamika."
   ]
  },
  {
   "cell_type": "markdown",
   "metadata": {
    "id": "RoWIK0ss_2DX"
   },
   "source": [
    "Contoh Penghitungan Determinan Matriks dengan Python:\n",
    "Berikut adalah contoh penghitungan determinan matriks\n",
    "2\n",
    "×\n",
    "2\n",
    "2×2 dan\n",
    "3\n",
    "×\n",
    "3\n",
    "3×3 menggunakan Python:"
   ]
  },
  {
   "cell_type": "markdown",
   "metadata": {
    "id": "dln53rP8AAD4"
   },
   "source": [
    "1. Matriks 2x2:\n",
    "\n",
    "Untuk matriks\n",
    "2\n",
    "×\n",
    "2\n",
    "2×2 yang dinyatakan sebagai:\n",
    "\n",
    "𝐴\n",
    "=\n",
    "[\n",
    "𝑎\n",
    "𝑏\n",
    "𝑐\n",
    "𝑑\n",
    "]\n",
    "A=[\n",
    "a\n",
    "c\n",
    "​\n",
    "  \n",
    "b\n",
    "d\n",
    "​\n",
    " ]\n",
    "\n",
    "Determinan dari matriks\n",
    "𝐴\n",
    "A dihitung dengan rumus:\n",
    "\n",
    "∣\n",
    "𝐴\n",
    "∣\n",
    "=\n",
    "𝑎\n",
    "𝑑\n",
    "−\n",
    "𝑏\n",
    "𝑐\n",
    "∣A∣=ad−bc"
   ]
  },
  {
   "cell_type": "code",
   "execution_count": 1,
   "metadata": {
    "colab": {
     "base_uri": "https://localhost:8080/"
    },
    "executionInfo": {
     "elapsed": 540,
     "status": "ok",
     "timestamp": 1719195405950,
     "user": {
      "displayName": "23-005 HANIN",
      "userId": "17469751421308221159"
     },
     "user_tz": -420
    },
    "id": "V6C_5bB5AA4a",
    "outputId": "98729a70-6f8f-4eab-81b6-3e0f64f9c2e1"
   },
   "outputs": [
    {
     "name": "stdout",
     "output_type": "stream",
     "text": [
      "Determinan Matriks A: 2\n"
     ]
    }
   ],
   "source": [
    "# Matriks 2x2\n",
    "A = [[3, 4], [1, 2]]\n",
    "\n",
    "# Hitung determinan\n",
    "det_A = A[0][0]*A[1][1] - A[0][1]*A[1][0]\n",
    "\n",
    "print(\"Determinan Matriks A:\", det_A)"
   ]
  },
  {
   "cell_type": "markdown",
   "metadata": {
    "id": "ZLP8pWMxALtI"
   },
   "source": [
    "2. Matriks 3x3:\n",
    "\n",
    "Untuk matriks\n",
    "3\n",
    "×\n",
    "3\n",
    "3×3 yang dinyatakan sebagai:\n",
    "\n",
    "𝐵\n",
    "=\n",
    "[\n",
    "𝑒\n",
    "𝑓\n",
    "𝑔\n",
    "ℎ\n",
    "𝑖\n",
    "𝑗\n",
    "𝑘\n",
    "𝑙\n",
    "𝑚\n",
    "]\n",
    "B=\n",
    "​\n",
    "  \n",
    "e\n",
    "h\n",
    "k\n",
    "​\n",
    "  \n",
    "f\n",
    "i\n",
    "l\n",
    "​\n",
    "  \n",
    "g\n",
    "j\n",
    "m\n",
    "​\n",
    "  \n",
    "​\n",
    "\n",
    "Determinan dari matriks\n",
    "𝐵\n",
    "B dihitung dengan rumus ekspansi kofaktor:\n",
    "\n",
    "∣\n",
    "𝐵\n",
    "∣\n",
    "=\n",
    "𝑒\n",
    "(\n",
    "𝑖\n",
    "⋅\n",
    "𝑚\n",
    "−\n",
    "𝑗\n",
    "⋅\n",
    "𝑙\n",
    ")\n",
    "−\n",
    "𝑓\n",
    "(\n",
    "ℎ\n",
    "⋅\n",
    "𝑚\n",
    "−\n",
    "𝑗\n",
    "⋅\n",
    "𝑘\n",
    ")\n",
    "+\n",
    "𝑔\n",
    "(\n",
    "ℎ\n",
    "⋅\n",
    "𝑙\n",
    "−\n",
    "𝑖\n",
    "⋅\n",
    "𝑘\n",
    ")\n",
    "∣B∣=e(i⋅m−j⋅l)−f(h⋅m−j⋅k)+g(h⋅l−i⋅k)"
   ]
  },
  {
   "cell_type": "code",
   "execution_count": 2,
   "metadata": {
    "colab": {
     "base_uri": "https://localhost:8080/"
    },
    "executionInfo": {
     "elapsed": 593,
     "status": "ok",
     "timestamp": 1719194952548,
     "user": {
      "displayName": "23-005 HANIN",
      "userId": "17469751421308221159"
     },
     "user_tz": -420
    },
    "id": "IQLafV6kAOq-",
    "outputId": "f6957720-8583-45aa-ed4e-3ce9ae9169e7"
   },
   "outputs": [
    {
     "name": "stdout",
     "output_type": "stream",
     "text": [
      "Determinan Matriks B: -306\n"
     ]
    }
   ],
   "source": [
    "# Matriks 3x3\n",
    "B = [[6, 1, 1], [4, -2, 5], [2, 8, 7]]\n",
    "\n",
    "# Hitung determinan\n",
    "det_B = B[0][0]*(B[1][1]*B[2][2] - B[1][2]*B[2][1]) - B[0][1]*(B[1][0]*B[2][2] - B[1][2]*B[2][0]) + B[0][2]*(B[1][0]*B[2][1] - B[1][1]*B[2][0])\n",
    "\n",
    "print(\"Determinan Matriks B:\", det_B)"
   ]
  },
  {
   "cell_type": "markdown",
   "metadata": {
    "id": "kjqKd8xZASmb"
   },
   "source": [
    "Penghitungan Dua Matriks dengan Program Python:\n",
    "\n",
    "Untuk menghitung dua matriks dan menampilkan hasilnya, Anda dapat menggunakan Python sebagai berikut:"
   ]
  },
  {
   "cell_type": "code",
   "execution_count": 3,
   "metadata": {
    "colab": {
     "base_uri": "https://localhost:8080/"
    },
    "executionInfo": {
     "elapsed": 1108,
     "status": "ok",
     "timestamp": 1719194989863,
     "user": {
      "displayName": "23-005 HANIN",
      "userId": "17469751421308221159"
     },
     "user_tz": -420
    },
    "id": "hOAd6rOHAWBf",
    "outputId": "ac8011a9-5036-4457-8f96-8a16d5dde025"
   },
   "outputs": [
    {
     "name": "stdout",
     "output_type": "stream",
     "text": [
      "Hasil Penjumlahan Dua Matriks:\n",
      "[6, 8]\n",
      "[10, 12]\n"
     ]
    }
   ],
   "source": [
    "# Dua matriks\n",
    "matrix1 = [[1, 2], [3, 4]]\n",
    "matrix2 = [[5, 6], [7, 8]]\n",
    "\n",
    "# Inisialisasi matriks hasil dengan ukuran yang sama\n",
    "result = [[0, 0], [0, 0]]\n",
    "\n",
    "# Penjumlahan dua matriks\n",
    "for i in range(len(matrix1)):\n",
    "    for j in range(len(matrix1[0])):\n",
    "        result[i][j] = matrix1[i][j] + matrix2[i][j]\n",
    "\n",
    "# Tampilkan hasil\n",
    "print(\"Hasil Penjumlahan Dua Matriks:\")\n",
    "for row in result:\n",
    "    print(row)"
   ]
  },
  {
   "cell_type": "markdown",
   "metadata": {
    "id": "eb3gLOeuB22J"
   },
   "source": [
    "Operasi Pengurangan, Perkalian, dan Pembagian Matriks dengan NumPy:"
   ]
  },
  {
   "cell_type": "code",
   "execution_count": 4,
   "metadata": {
    "colab": {
     "base_uri": "https://localhost:8080/"
    },
    "executionInfo": {
     "elapsed": 641,
     "status": "ok",
     "timestamp": 1719195384360,
     "user": {
      "displayName": "23-005 HANIN",
      "userId": "17469751421308221159"
     },
     "user_tz": -420
    },
    "id": "uyz5jQtpB3ha",
    "outputId": "17e1fbc0-e230-4b88-ba3d-023f932cc7a2"
   },
   "outputs": [
    {
     "name": "stdout",
     "output_type": "stream",
     "text": [
      "Hasil Pengurangan Dua Matriks:\n",
      "[[-4 -4]\n",
      " [-4 -4]]\n",
      "\n",
      "Hasil Perkalian Dua Matriks:\n",
      "[[19 22]\n",
      " [43 50]]\n",
      "\n",
      "Hasil Pembagian Dua Matriks:\n",
      "[[0.2        0.33333333]\n",
      " [0.42857143 0.5       ]]\n"
     ]
    }
   ],
   "source": [
    "import numpy as np\n",
    "\n",
    "# Dua matriks contoh\n",
    "matrix1 = np.array([[1, 2], [3, 4]])\n",
    "matrix2 = np.array([[5, 6], [7, 8]])\n",
    "\n",
    "# Pengurangan matriks\n",
    "subtraction_result = matrix1 - matrix2\n",
    "\n",
    "# Perkalian matriks\n",
    "multiplication_result = np.dot(matrix1, matrix2)\n",
    "\n",
    "# Pembagian matriks (element-wise division)\n",
    "division_result = np.divide(matrix1, matrix2)\n",
    "\n",
    "print(\"Hasil Pengurangan Dua Matriks:\")\n",
    "print(subtraction_result)\n",
    "\n",
    "print(\"\\nHasil Perkalian Dua Matriks:\")\n",
    "print(multiplication_result)\n",
    "\n",
    "print(\"\\nHasil Pembagian Dua Matriks:\")\n",
    "print(division_result)"
   ]
  }
 ],
 "metadata": {
  "colab": {
   "authorship_tag": "ABX9TyMQ2P/ghlQ+q7dVAQ47VV7R",
   "provenance": []
  },
  "kernelspec": {
   "display_name": "Python 3",
   "name": "python3"
  },
  "language_info": {
   "codemirror_mode": {
    "name": "ipython",
    "version": 3
   },
   "file_extension": ".py",
   "mimetype": "text/x-python",
   "name": "python",
   "nbconvert_exporter": "python",
   "pygments_lexer": "ipython3",
   "version": "3.10.13"
  }
 },
 "nbformat": 4,
 "nbformat_minor": 0
}