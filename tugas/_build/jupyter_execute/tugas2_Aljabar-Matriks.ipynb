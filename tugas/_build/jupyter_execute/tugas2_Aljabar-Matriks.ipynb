{
 "cells": [
  {
   "cell_type": "markdown",
   "metadata": {
    "id": "4K9r_F2JrlPb"
   },
   "source": [
    "# **1. Matriks**\n",
    "\n",
    "## Matriks: Tinjauan Komprehensif\n",
    "\n",
    "Matriks merupakan struktur matematika fundamental yang merepresentasikan data dalam bentuk susunan bilangan, simbol, ataupun ekspresi. Bentuknya menyerupai tabel persegi panjang dengan baris dan kolom, di mana setiap elemen (data) diidentifikasi berdasarkan lokasinya (baris dan kolom).\n",
    "\n",
    "### Karakteristik Matriks:\n",
    "\n",
    "**Dimensi:** Ditentukan oleh jumlah baris (m) dan kolom (n). Matriks dengan m baris dan n kolom disebut matriks m x n. Contohnya, matriks dengan 2 baris dan 3 kolom adalah matriks 2 x 3.\n",
    "\n",
    "**Elemen:** Data yang mengisi matriks. Elemen dapat berupa bilangan real, kompleks, variabel, ataupun fungsi.\n",
    "\n",
    "**Jenis Matriks:** Berbagai jenis matriks dikategorikan berdasarkan sifatnya, seperti:\n",
    "\n",
    "* **Matriks Nol:** Semua elemennya bernilai nol.\n",
    "* **Matriks Identitas:** Matriks diagonal dengan elemen diagonal bernilai satu.\n",
    "* **Matriks Transpose:** Diperoleh dengan menukar baris dan kolom matriks asli.\n",
    "* **Matriks Persegi:** Matriks dengan jumlah baris dan kolom sama.\n",
    "* **Matriks Segitiga:** Matriks dengan elemen di atas atau di bawah diagonal utama bernilai nol.\n",
    "\n",
    "### Operasi Matriks:\n",
    "\n",
    "* **Penjumlahan/Pengurangan:** Dilakukan antar elemen yang memiliki posisi sama pada dua matriks dengan dimensi sama.\n",
    "* **Perkalian:** Dilakukan dengan aturan perkalian matriks yang melibatkan perkalian elemen dan penjumlahan hasil perkalian.\n",
    "* **Perkalian dengan Skalar:** Setiap elemen matriks dikalikan dengan skalar (bilangan).\n",
    "* **Invers Matriks:** Menemukan matriks lain yang ketika dikalikan dengan matriks asli menghasilkan matriks identitas.\n",
    "\n",
    "### Penerapan Matriks:\n",
    "\n",
    "Matriks memiliki banyak aplikasi di berbagai bidang, seperti:\n",
    "\n",
    "* **Matematika:** Sistem persamaan linear, transformasi geometri, kalkulus vektor.\n",
    "* **Fisika:** Mekanika, elektrodinamika, teori kuantum.\n",
    "* **Teknik:** Rekayasa kontrol, pemrosesan sinyal, ilmu komputer.\n",
    "* **Ekonomi:** Pemodelan ekonomi, analisis data keuangan.\n",
    "* **Ilmu Sosial:** Riset kependudukan, analisis survei.\n",
    "\n",
    "### Contoh Penerapan Matriks:\n",
    "\n",
    "* **Menyelesaikan Sistem Persamaan Linear:** Matriks dapat digunakan untuk merepresentasikan sistem persamaan linear dan menyelesaikannya dengan metode eliminasi Gauss.\n",
    "* **Transformasi Geometri:** Matriks dapat digunakan untuk merepresentasikan transformasi geometri seperti rotasi, translasi, dan pembesaran.\n",
    "* **Menganalisis Data Keuangan:** Matriks dapat digunakan untuk menganalisis data keuangan seperti neraca keuangan dan laporan laba rugi.\n",
    "\n",
    "### Kesimpulan:\n",
    "\n",
    "Matriks merupakan alat matematika penting dan serbaguna dengan berbagai aplikasi di berbagai bidang. Mempelajari matriks membuka peluang untuk memahami dan menyelesaikan berbagai masalah kompleks dalam ilmu pengetahuan dan teknologi."
   ]
  },
  {
   "cell_type": "markdown",
   "metadata": {
    "id": "6SY2g0VyXl5x"
   },
   "source": [
    "###**1.1 Operasi Matriks**\n",
    "\n",
    "\\\n",
    "**A. Penjumlahan Matriks:**\n",
    "\n",
    "Penjumlahan matriks hanya dapat dilakukan pada matriks dengan dimensi yang sama. Elemen yang memiliki posisi sama pada kedua matriks dijumlahkan.\n",
    "\n",
    "**Contoh:**\n",
    "\n",
    "Misalkan matriks A dan B berukuran 2x2:\n",
    "\n",
    "```\n",
    "A = [1 2]\n",
    "    [3 4]\n",
    "\n",
    "B = [5 6]\n",
    "    [7 8]\n",
    "```\n",
    "\n",
    "Maka penjumlahan matriks A dan B adalah:\n",
    "\n",
    "```\n",
    "A + B = [1+5 2+6]\n",
    "        [3+7 4+8]\n",
    "\n",
    "       = [6 8]\n",
    "        [10 12]\n",
    "```\n",
    "\n",
    "\\\n",
    "**B. Perkalian Matriks:**\n",
    "\n",
    "Perkalian matriks berbeda dengan perkalian bilangan biasa. Perkalian matriks melibatkan perkalian elemen-elemen matriks dan penjumlahan hasil perkaliannya.\n",
    "\n",
    "**Contoh:**\n",
    "\n",
    "Misalkan matriks A berukuran 2x2 dan matriks B berukuran 2x3:\n",
    "\n",
    "```\n",
    "A = [1 2]\n",
    "    [3 4]\n",
    "\n",
    "B = [5 6 7]\n",
    "    [8 9 10]\n",
    "```\n",
    "\n",
    "Maka perkalian matriks A dan B adalah:\n",
    "\n",
    "```\n",
    "A * B = [1*5+2*8 1*6+2*9 1*7+2*10]\n",
    "        [3*5+4*8 3*6+4*9 3*7+4*10]\n",
    "\n",
    "       = [21 24 33]\n",
    "        [49 60 77]\n",
    "```\n",
    "\n",
    "\\\n",
    "**C. Pengurangan Matriks:**\n",
    "\n",
    "Pengurangan matriks dilakukan dengan cara yang sama seperti penjumlahan matriks, yaitu dengan mengurangkan elemen yang memiliki posisi sama pada kedua matriks.\n",
    "\n",
    "**Contoh:**\n",
    "\n",
    "Misalkan kita memiliki dua matriks A dan B berikut:\n",
    "\n",
    "```\n",
    "A = [[1, 2], [3, 4]]\n",
    "B = [[2, 3], [4, 5]]\n",
    "```\n",
    "\n",
    "Untuk mengurangkan matriks A dan B, kita perlu mengurangkan elemen-elemen matriks yang seletak.\n",
    "\n",
    "```\n",
    "A - B = [[1 - 2, 2 - 3], [3 - 4, 4 - 5]]\n",
    "```\n",
    "\n",
    "Hasil pengurangan matriks A dan B adalah matriks berikut:\n",
    "\n",
    "```\n",
    "C = [[-1, -1], [-1, -1]]\n",
    "```\n",
    "\n",
    "\\\n",
    "**D. Transpose Matriks:**\n",
    "\n",
    "Transpose matriks adalah operasi yang mengubah baris menjadi kolom dan kolom menjadi baris.\n",
    "\n",
    "**Contoh:**\n",
    "\n",
    "Misalkan matriks A berukuran 2x2:\n",
    "\n",
    "```\n",
    "A = [1 2]\n",
    "    [3 4]\n",
    "```\n",
    "\n",
    "Maka transpose matriks A adalah:\n",
    "\n",
    "```\n",
    "A^T = [1 3]\n",
    "      [2 4]\n",
    "```\n",
    "\n",
    "\n"
   ]
  },
  {
   "cell_type": "markdown",
   "metadata": {
    "id": "GI75ro-hnT0N"
   },
   "source": [
    "##**2. Program Perkalian Matriks**\n",
    "\n",
    "Berikut adalah program Python untuk mengalikan matriks A dan B secara manual menggunakan perulangan:"
   ]
  },
  {
   "cell_type": "code",
   "execution_count": 1,
   "metadata": {
    "colab": {
     "base_uri": "https://localhost:8080/"
    },
    "executionInfo": {
     "elapsed": 310,
     "status": "ok",
     "timestamp": 1710700200425,
     "user": {
      "displayName": "23-005 HANIN",
      "userId": "17469751421308221159"
     },
     "user_tz": -420
    },
    "id": "gV15HVWOmans",
    "outputId": "da84e9a6-5f13-4007-d3c9-9a803d7d2b1c"
   },
   "outputs": [
    {
     "name": "stdout",
     "output_type": "stream",
     "text": [
      "[30, 24, 18]\n",
      "[84, 69, 54]\n",
      "[138, 114, 90]\n"
     ]
    }
   ],
   "source": [
    "def multiply_matrices(A, B):\n",
    "    rows_A = len(A)\n",
    "    cols_A = len(A[0])\n",
    "    rows_B = len(B)\n",
    "    cols_B = len(B[0])\n",
    "\n",
    "    # Membuat matriks hasil dengan ukuran yang sesuai\n",
    "    result = [[0 for _ in range(cols_B)] for _ in range(rows_A)]\n",
    "\n",
    "    # Perkalian matriks\n",
    "    for i in range(rows_A):\n",
    "        for j in range(cols_B):\n",
    "            for k in range(cols_A):\n",
    "                result[i][j] += A[i][k] * B[k][j]\n",
    "\n",
    "    return result\n",
    "\n",
    "# Matriks A\n",
    "A = [[1, 2, 3],\n",
    "     [4, 5, 6],\n",
    "     [7, 8, 9]]\n",
    "\n",
    "# Matriks B\n",
    "B = [[9, 8, 7],\n",
    "     [6, 5, 4],\n",
    "     [3, 2, 1]]\n",
    "\n",
    "# Mengalikan dua matriks\n",
    "C = multiply_matrices(A, B)\n",
    "\n",
    "# Menampilkan hasil\n",
    "for row in C:\n",
    "    print(row)"
   ]
  },
  {
   "cell_type": "markdown",
   "metadata": {
    "id": "p3fSwwsjmnYM"
   },
   "source": [
    "##**3. membuat matriks A dan B dengan ordo 3X3 dan matriks C dengan ordo 3X2**"
   ]
  },
  {
   "cell_type": "code",
   "execution_count": 2,
   "metadata": {
    "id": "dzqWqrEDmpPN"
   },
   "outputs": [],
   "source": [
    "# Matriks A\n",
    "A = [[1, 2, 3],\n",
    "     [4, 5, 6],\n",
    "     [7, 8, 9]]\n",
    "\n",
    "# Matriks B\n",
    "B = [[9, 8, 7],\n",
    "     [6, 5, 4],\n",
    "     [3, 2, 1]]\n",
    "\n",
    "# Matriks C\n",
    "C = [[1, 2],\n",
    "     [3, 4],\n",
    "     [5, 6]]"
   ]
  }
 ],
 "metadata": {
  "colab": {
   "authorship_tag": "ABX9TyPGYhqINJH+saxLFfqYdFuv",
   "provenance": []
  },
  "kernelspec": {
   "display_name": "Python 3",
   "name": "python3"
  },
  "language_info": {
   "codemirror_mode": {
    "name": "ipython",
    "version": 3
   },
   "file_extension": ".py",
   "mimetype": "text/x-python",
   "name": "python",
   "nbconvert_exporter": "python",
   "pygments_lexer": "ipython3",
   "version": "3.10.13"
  }
 },
 "nbformat": 4,
 "nbformat_minor": 0
}